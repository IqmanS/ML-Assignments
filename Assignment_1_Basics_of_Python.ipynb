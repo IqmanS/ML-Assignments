{
  "nbformat": 4,
  "nbformat_minor": 0,
  "metadata": {
    "colab": {
      "provenance": [],
      "authorship_tag": "ABX9TyNIfNEsTQlVZjB7IZEfm+rs",
      "include_colab_link": true
    },
    "kernelspec": {
      "name": "python3",
      "display_name": "Python 3"
    },
    "language_info": {
      "name": "python"
    }
  },
  "cells": [
    {
      "cell_type": "markdown",
      "metadata": {
        "id": "view-in-github",
        "colab_type": "text"
      },
      "source": [
        "<a href=\"https://colab.research.google.com/github/IqmanS/summer_school_assignments/blob/main/Assignment_1_Basics_of_Python.ipynb\" target=\"_parent\"><img src=\"https://colab.research.google.com/assets/colab-badge.svg\" alt=\"Open In Colab\"/></a>"
      ]
    },
    {
      "cell_type": "code",
      "source": [
        "import sympy as sp\n",
        "import numpy as np"
      ],
      "metadata": {
        "id": "dXrjy1gfJJ61"
      },
      "execution_count": 374,
      "outputs": []
    },
    {
      "cell_type": "markdown",
      "source": [
        "Q1. L is a list defined as L= [11, 12, 13, 14]\n",
        "1. WAP to add 50 and 60 to L.\n",
        "2. WAP to remove 11 and 13 from L.\n",
        "3. WAP to sort L in ascending order.\n",
        "4. WAP to sort L in descending order.\n",
        "5. WAP to search for 14 in L.\n",
        "6. WAP to count the number of elements present in L.\n",
        "7. WAP to sum all the elements in L.\n",
        "8. WAP to sum all ODD numbers in L.\n",
        "9. WAP to sum all EVEN numbers in L.\n",
        "10. WAP to sum all PRIME numbers in L.\n",
        "11. WAP to clear all the elements in L.\n",
        "12. WAP to delete L."
      ],
      "metadata": {
        "id": "4AEASbJfFVCN"
      }
    },
    {
      "cell_type": "code",
      "execution_count": 375,
      "metadata": {
        "id": "uKEHo9yUFA7r"
      },
      "outputs": [],
      "source": [
        "L =[11,12,13,14]"
      ]
    },
    {
      "cell_type": "code",
      "source": [
        "L.extend([50,60])\n",
        "L"
      ],
      "metadata": {
        "colab": {
          "base_uri": "https://localhost:8080/"
        },
        "id": "qdQc9uBBF23w",
        "outputId": "a79f154b-8312-454a-fd84-91562623a325"
      },
      "execution_count": 376,
      "outputs": [
        {
          "output_type": "execute_result",
          "data": {
            "text/plain": [
              "[11, 12, 13, 14, 50, 60]"
            ]
          },
          "metadata": {},
          "execution_count": 376
        }
      ]
    },
    {
      "cell_type": "code",
      "source": [
        "for i in [11,13]:\n",
        "  L.remove(i)\n",
        "L"
      ],
      "metadata": {
        "colab": {
          "base_uri": "https://localhost:8080/"
        },
        "id": "bnqms5sGF69_",
        "outputId": "76898b2f-3e67-4b90-ad88-eda070f85936"
      },
      "execution_count": 377,
      "outputs": [
        {
          "output_type": "execute_result",
          "data": {
            "text/plain": [
              "[12, 14, 50, 60]"
            ]
          },
          "metadata": {},
          "execution_count": 377
        }
      ]
    },
    {
      "cell_type": "code",
      "source": [
        "L.sort()\n",
        "L"
      ],
      "metadata": {
        "colab": {
          "base_uri": "https://localhost:8080/"
        },
        "id": "4ofelnMeHZ44",
        "outputId": "2f2517d6-5097-4f91-e765-4c52b8a70ff6"
      },
      "execution_count": 378,
      "outputs": [
        {
          "output_type": "execute_result",
          "data": {
            "text/plain": [
              "[12, 14, 50, 60]"
            ]
          },
          "metadata": {},
          "execution_count": 378
        }
      ]
    },
    {
      "cell_type": "code",
      "source": [
        "L.sort(reverse=True)\n",
        "L"
      ],
      "metadata": {
        "colab": {
          "base_uri": "https://localhost:8080/"
        },
        "id": "ccbkyjCXHeuD",
        "outputId": "e2a9ef90-6630-40c6-b226-35e3d9218796"
      },
      "execution_count": 379,
      "outputs": [
        {
          "output_type": "execute_result",
          "data": {
            "text/plain": [
              "[60, 50, 14, 12]"
            ]
          },
          "metadata": {},
          "execution_count": 379
        }
      ]
    },
    {
      "cell_type": "code",
      "source": [
        "L.index(14)"
      ],
      "metadata": {
        "colab": {
          "base_uri": "https://localhost:8080/"
        },
        "id": "F5yJTfpMHeta",
        "outputId": "f01c06fb-39bd-48b3-b33c-47c551f932c3"
      },
      "execution_count": 380,
      "outputs": [
        {
          "output_type": "execute_result",
          "data": {
            "text/plain": [
              "2"
            ]
          },
          "metadata": {},
          "execution_count": 380
        }
      ]
    },
    {
      "cell_type": "code",
      "source": [
        "len(L)"
      ],
      "metadata": {
        "colab": {
          "base_uri": "https://localhost:8080/"
        },
        "id": "CSTMT86AHwHK",
        "outputId": "39643397-19ed-4721-8ec4-b3c0b9293b70"
      },
      "execution_count": 381,
      "outputs": [
        {
          "output_type": "execute_result",
          "data": {
            "text/plain": [
              "4"
            ]
          },
          "metadata": {},
          "execution_count": 381
        }
      ]
    },
    {
      "cell_type": "code",
      "source": [
        "sum =0\n",
        "for i in L:\n",
        "  sum +=i\n",
        "sum"
      ],
      "metadata": {
        "colab": {
          "base_uri": "https://localhost:8080/"
        },
        "id": "gRI7vy6sH0DE",
        "outputId": "aa2e263f-86f1-447b-d0ec-d493bfd23b30"
      },
      "execution_count": 382,
      "outputs": [
        {
          "output_type": "execute_result",
          "data": {
            "text/plain": [
              "136"
            ]
          },
          "metadata": {},
          "execution_count": 382
        }
      ]
    },
    {
      "cell_type": "code",
      "source": [
        "sum =0\n",
        "for i in L:\n",
        "  sum +=i if i%2!=0 else 0\n",
        "sum"
      ],
      "metadata": {
        "colab": {
          "base_uri": "https://localhost:8080/"
        },
        "id": "tKM0qTGqInpp",
        "outputId": "90f35266-0826-45d7-940e-22d9e431b6dc"
      },
      "execution_count": 383,
      "outputs": [
        {
          "output_type": "execute_result",
          "data": {
            "text/plain": [
              "0"
            ]
          },
          "metadata": {},
          "execution_count": 383
        }
      ]
    },
    {
      "cell_type": "code",
      "source": [
        "sum =0\n",
        "for i in L:\n",
        "  sum +=i if i%2==0 else 0\n",
        "sum"
      ],
      "metadata": {
        "colab": {
          "base_uri": "https://localhost:8080/"
        },
        "id": "zuu7B7reIxAw",
        "outputId": "9f25187c-e182-4536-e1c2-a72a69dab73a"
      },
      "execution_count": 384,
      "outputs": [
        {
          "output_type": "execute_result",
          "data": {
            "text/plain": [
              "136"
            ]
          },
          "metadata": {},
          "execution_count": 384
        }
      ]
    },
    {
      "cell_type": "code",
      "source": [
        "sum =0\n",
        "for i in L:\n",
        "  sum +=i if sp.isprime(i) else 0\n",
        "sum"
      ],
      "metadata": {
        "colab": {
          "base_uri": "https://localhost:8080/"
        },
        "id": "Xn2TSfmhI0nl",
        "outputId": "b967c9d3-2c8c-4338-ea44-9e46a514363b"
      },
      "execution_count": 385,
      "outputs": [
        {
          "output_type": "execute_result",
          "data": {
            "text/plain": [
              "0"
            ]
          },
          "metadata": {},
          "execution_count": 385
        }
      ]
    },
    {
      "cell_type": "code",
      "source": [
        "L.clear()\n",
        "L"
      ],
      "metadata": {
        "colab": {
          "base_uri": "https://localhost:8080/"
        },
        "id": "uVxpgomoJZRe",
        "outputId": "f80fb0d9-70f7-4572-ecb5-a67061988776"
      },
      "execution_count": 386,
      "outputs": [
        {
          "output_type": "execute_result",
          "data": {
            "text/plain": [
              "[]"
            ]
          },
          "metadata": {},
          "execution_count": 386
        }
      ]
    },
    {
      "cell_type": "code",
      "source": [
        "del L"
      ],
      "metadata": {
        "id": "1ECusOPSJdZb"
      },
      "execution_count": 387,
      "outputs": []
    },
    {
      "cell_type": "markdown",
      "source": [
        "Q2. D is a dictionary defined as D= {1:5.6, 2:7.8, 3:6.6, 4:8.7, 5:7.7}.\n",
        "1. WAP to add new entry in D; key=8 and value is 8.8\n",
        "2. WAP to remove key=2.\n",
        "3. WAP to check weather 6 key is present in D.\n",
        "4. WAP to count the number of elements present in D.\n",
        "5. WAP to add all the values present D.\n",
        "6. WAP to update the value of 3 to 7.1.\n",
        "7. WAP to clear the dictionary."
      ],
      "metadata": {
        "id": "BCLu0Sr2JsaP"
      }
    },
    {
      "cell_type": "markdown",
      "source": [],
      "metadata": {
        "id": "4lJJDnuiJsZN"
      }
    },
    {
      "cell_type": "code",
      "source": [
        "D= {1:5.6, 2:7.8, 3:6.6, 4:8.7, 5:7.7}"
      ],
      "metadata": {
        "id": "ppswGhdtJjjf"
      },
      "execution_count": 388,
      "outputs": []
    },
    {
      "cell_type": "code",
      "source": [
        "D[8] = 8.8\n",
        "D"
      ],
      "metadata": {
        "colab": {
          "base_uri": "https://localhost:8080/"
        },
        "id": "uK-NLcNdJ6F9",
        "outputId": "d35b8b71-8b1c-459c-f0e1-6f657de8b8b5"
      },
      "execution_count": 389,
      "outputs": [
        {
          "output_type": "execute_result",
          "data": {
            "text/plain": [
              "{1: 5.6, 2: 7.8, 3: 6.6, 4: 8.7, 5: 7.7, 8: 8.8}"
            ]
          },
          "metadata": {},
          "execution_count": 389
        }
      ]
    },
    {
      "cell_type": "code",
      "source": [
        "print(6 in D.keys())"
      ],
      "metadata": {
        "colab": {
          "base_uri": "https://localhost:8080/"
        },
        "id": "TXuUG2qbKMrA",
        "outputId": "8772f842-7682-4e15-d66f-5662ddfef480"
      },
      "execution_count": 390,
      "outputs": [
        {
          "output_type": "stream",
          "name": "stdout",
          "text": [
            "False\n"
          ]
        }
      ]
    },
    {
      "cell_type": "code",
      "source": [
        "len(D.values())"
      ],
      "metadata": {
        "colab": {
          "base_uri": "https://localhost:8080/"
        },
        "id": "-Xa3Yq6nLOHC",
        "outputId": "842ac04a-238b-4d76-a9ac-84493726f55a"
      },
      "execution_count": 391,
      "outputs": [
        {
          "output_type": "execute_result",
          "data": {
            "text/plain": [
              "6"
            ]
          },
          "metadata": {},
          "execution_count": 391
        }
      ]
    },
    {
      "cell_type": "code",
      "source": [
        "sum = 0\n",
        "for i in D.values():\n",
        "  sum += i \n",
        "sum"
      ],
      "metadata": {
        "colab": {
          "base_uri": "https://localhost:8080/"
        },
        "id": "3ZuKiJ07LY9B",
        "outputId": "b7c71e16-654c-4267-ee90-7c541e447da2"
      },
      "execution_count": 392,
      "outputs": [
        {
          "output_type": "execute_result",
          "data": {
            "text/plain": [
              "45.2"
            ]
          },
          "metadata": {},
          "execution_count": 392
        }
      ]
    },
    {
      "cell_type": "code",
      "source": [
        "D[3] = 7.1\n",
        "D"
      ],
      "metadata": {
        "colab": {
          "base_uri": "https://localhost:8080/"
        },
        "id": "RC4aykoiLtDT",
        "outputId": "c14d5475-46d3-4380-9888-2b37a3eb206d"
      },
      "execution_count": 393,
      "outputs": [
        {
          "output_type": "execute_result",
          "data": {
            "text/plain": [
              "{1: 5.6, 2: 7.8, 3: 7.1, 4: 8.7, 5: 7.7, 8: 8.8}"
            ]
          },
          "metadata": {},
          "execution_count": 393
        }
      ]
    },
    {
      "cell_type": "code",
      "source": [
        "D.clear()\n",
        "D"
      ],
      "metadata": {
        "colab": {
          "base_uri": "https://localhost:8080/"
        },
        "id": "KVqZR5c2LwHk",
        "outputId": "bed8383c-5b2c-4d2c-b9a3-37ff97850610"
      },
      "execution_count": 394,
      "outputs": [
        {
          "output_type": "execute_result",
          "data": {
            "text/plain": [
              "{}"
            ]
          },
          "metadata": {},
          "execution_count": 394
        }
      ]
    },
    {
      "cell_type": "markdown",
      "source": [
        "Q3.   S1 is a set defined as S1= [10, 20, 30, 40, 50, 60].<br>\n",
        "      &nbsp;&nbsp;&nbsp;&nbsp;&nbsp;&nbsp;&nbsp;S2 is a set defined as S2= [40, 50, 60, 70, 80, 90].\n",
        "1. WAP to add 55 and 66 in Set S1.\n",
        "2. WAP to remove 10 and 30 from Set S1.\n",
        "3. WAP to check whether 40 is present in S1.\n",
        "4. WAP to find the union between S1 and S2.\n",
        "5. WAP to find the intersection between S1 and S2.\n",
        "6. WAP to find the S1 - S2"
      ],
      "metadata": {
        "id": "8NM4ddinLy6Y"
      }
    },
    {
      "cell_type": "code",
      "source": [
        "S1 = [10,20,30,40,50,60]\n",
        "S2 = [40,50,60,70,80,90]"
      ],
      "metadata": {
        "id": "RKBLaXbeMede"
      },
      "execution_count": 395,
      "outputs": []
    },
    {
      "cell_type": "code",
      "source": [
        "S1.extend([55,66])\n",
        "S1"
      ],
      "metadata": {
        "colab": {
          "base_uri": "https://localhost:8080/"
        },
        "id": "UU_LeXSSLylg",
        "outputId": "e8595c49-8dfb-4967-9bc7-182ed84c6e90"
      },
      "execution_count": 396,
      "outputs": [
        {
          "output_type": "execute_result",
          "data": {
            "text/plain": [
              "[10, 20, 30, 40, 50, 60, 55, 66]"
            ]
          },
          "metadata": {},
          "execution_count": 396
        }
      ]
    },
    {
      "cell_type": "code",
      "source": [
        "for i in [10,30]:\n",
        "  S1.remove(i)\n",
        "S1"
      ],
      "metadata": {
        "colab": {
          "base_uri": "https://localhost:8080/"
        },
        "id": "W8SkQlykLwGg",
        "outputId": "b86d0853-2636-4c59-dda6-a50ca13c9de7"
      },
      "execution_count": 397,
      "outputs": [
        {
          "output_type": "execute_result",
          "data": {
            "text/plain": [
              "[20, 40, 50, 60, 55, 66]"
            ]
          },
          "metadata": {},
          "execution_count": 397
        }
      ]
    },
    {
      "cell_type": "code",
      "source": [
        "print(40 in S1)"
      ],
      "metadata": {
        "colab": {
          "base_uri": "https://localhost:8080/"
        },
        "id": "1wsIJ1UpMsbv",
        "outputId": "0e492a2b-f30d-402e-b3c7-00c8996c50e5"
      },
      "execution_count": 398,
      "outputs": [
        {
          "output_type": "stream",
          "name": "stdout",
          "text": [
            "True\n"
          ]
        }
      ]
    },
    {
      "cell_type": "code",
      "source": [
        "print(list(np.unique(S1+S2))) #UNION"
      ],
      "metadata": {
        "colab": {
          "base_uri": "https://localhost:8080/"
        },
        "id": "0xZS_csaOSXc",
        "outputId": "e0b1f9b2-6041-4fce-ede3-781e005ab7c1"
      },
      "execution_count": 399,
      "outputs": [
        {
          "output_type": "stream",
          "name": "stdout",
          "text": [
            "[20, 40, 50, 55, 60, 66, 70, 80, 90]\n"
          ]
        }
      ]
    },
    {
      "cell_type": "code",
      "source": [
        "intersect = [i for i in S1 if i in S2] #INTERSECTION\n",
        "print(intersect)"
      ],
      "metadata": {
        "colab": {
          "base_uri": "https://localhost:8080/"
        },
        "id": "kUquAiY7NHUM",
        "outputId": "50c54fc1-8fb7-48f6-a05b-812f63e11fee"
      },
      "execution_count": 400,
      "outputs": [
        {
          "output_type": "stream",
          "name": "stdout",
          "text": [
            "[40, 50, 60]\n"
          ]
        }
      ]
    },
    {
      "cell_type": "code",
      "source": [
        "for i in intersect:\n",
        "  S1.remove(i)\n",
        "S1"
      ],
      "metadata": {
        "colab": {
          "base_uri": "https://localhost:8080/"
        },
        "id": "BFzaiMXwPa6I",
        "outputId": "2e3fe7c5-3a6a-4226-bb27-18b6b34d082b"
      },
      "execution_count": 401,
      "outputs": [
        {
          "output_type": "execute_result",
          "data": {
            "text/plain": [
              "[20, 55, 66]"
            ]
          },
          "metadata": {},
          "execution_count": 401
        }
      ]
    },
    {
      "cell_type": "markdown",
      "source": [
        "Q4. Write the following program.\n",
        "1. WAP to print 10 random strings whose length between 6 and 8.\n",
        "2. WAP to print all prime numbers between 600 and 800.\n",
        "3. WAP to print all numbers between 100 and 1000 that are divisible by 7 and 9."
      ],
      "metadata": {
        "id": "ZHurJuv1QS8J"
      }
    },
    {
      "cell_type": "code",
      "source": [
        "import random \n",
        "import string"
      ],
      "metadata": {
        "id": "LxKunpC1QSih"
      },
      "execution_count": 402,
      "outputs": []
    },
    {
      "cell_type": "code",
      "source": [
        "for i in range(10):\n",
        "  l = random.randint(6,8)\n",
        "  s = random.choices(string.ascii_uppercase,k=l)\n",
        "  print(\"\".join(s))"
      ],
      "metadata": {
        "colab": {
          "base_uri": "https://localhost:8080/"
        },
        "id": "m0c3vVTiQSha",
        "outputId": "80872a83-42a5-44af-eaf5-f69b4be2b636"
      },
      "execution_count": 403,
      "outputs": [
        {
          "output_type": "stream",
          "name": "stdout",
          "text": [
            "NMTLRPUL\n",
            "VOJOMTNN\n",
            "XXDQLVB\n",
            "SPMUFH\n",
            "GCJVEJ\n",
            "ATGTLS\n",
            "NDXZMA\n",
            "ZYNPAV\n",
            "YBUKTI\n",
            "CRGTMU\n"
          ]
        }
      ]
    },
    {
      "cell_type": "code",
      "source": [
        "for i in range(600,800):\n",
        "  if sp.isprime(i):\n",
        "    print(i, end= \" \")"
      ],
      "metadata": {
        "colab": {
          "base_uri": "https://localhost:8080/"
        },
        "id": "6tZ234waR_i8",
        "outputId": "0373829d-dec6-40e2-c67e-dcbc27f629a0"
      },
      "execution_count": 404,
      "outputs": [
        {
          "output_type": "stream",
          "name": "stdout",
          "text": [
            "601 607 613 617 619 631 641 643 647 653 659 661 673 677 683 691 701 709 719 727 733 739 743 751 757 761 769 773 787 797 "
          ]
        }
      ]
    },
    {
      "cell_type": "code",
      "source": [
        "for i in range(100,1000):\n",
        "  if i%7==0 and i%9==0:\n",
        "    print(i, end=\" \")"
      ],
      "metadata": {
        "colab": {
          "base_uri": "https://localhost:8080/"
        },
        "id": "rChTav-8SUX6",
        "outputId": "94f20e1e-3157-48cd-d0bc-4293a9e10569"
      },
      "execution_count": 405,
      "outputs": [
        {
          "output_type": "stream",
          "name": "stdout",
          "text": [
            "126 189 252 315 378 441 504 567 630 693 756 819 882 945 "
          ]
        }
      ]
    },
    {
      "cell_type": "markdown",
      "source": [
        "Q5. WAP to create two lists of 10 random numbers between 10 and 30; Find\n",
        "1. Common numbers in the two lists\n",
        "2. Unique numbers in both the list\n",
        "3. Minimum in both the list\n",
        "4. Maximum in both the list\n",
        "5. Sum of both the lists"
      ],
      "metadata": {
        "id": "aMUXkfqvSlPJ"
      }
    },
    {
      "cell_type": "code",
      "source": [
        "L1 = random.choices(population=[i for i in range(11,30)],k=10)\n",
        "L1"
      ],
      "metadata": {
        "colab": {
          "base_uri": "https://localhost:8080/"
        },
        "id": "lfFbFA2bS_zj",
        "outputId": "fdab1e2c-8622-43c5-dccf-8a9b75c99979"
      },
      "execution_count": 406,
      "outputs": [
        {
          "output_type": "execute_result",
          "data": {
            "text/plain": [
              "[13, 22, 19, 18, 14, 19, 24, 24, 27, 18]"
            ]
          },
          "metadata": {},
          "execution_count": 406
        }
      ]
    },
    {
      "cell_type": "code",
      "source": [
        "L2 = random.choices(population=[i for i in range(11,30)],k=10)\n",
        "L2"
      ],
      "metadata": {
        "colab": {
          "base_uri": "https://localhost:8080/"
        },
        "id": "60QLqjt7TZaz",
        "outputId": "7f517f9f-1bb1-441f-c52a-720397f6c655"
      },
      "execution_count": 407,
      "outputs": [
        {
          "output_type": "execute_result",
          "data": {
            "text/plain": [
              "[17, 25, 22, 25, 29, 15, 12, 11, 12, 20]"
            ]
          },
          "metadata": {},
          "execution_count": 407
        }
      ]
    },
    {
      "cell_type": "code",
      "source": [
        "[i for i in L1 if i in L2] #INTERSECT"
      ],
      "metadata": {
        "colab": {
          "base_uri": "https://localhost:8080/"
        },
        "id": "QNMK2FC9TcBH",
        "outputId": "3b1b8811-bde3-4810-cb27-15c2df3d43a2"
      },
      "execution_count": 408,
      "outputs": [
        {
          "output_type": "execute_result",
          "data": {
            "text/plain": [
              "[22]"
            ]
          },
          "metadata": {},
          "execution_count": 408
        }
      ]
    },
    {
      "cell_type": "code",
      "source": [
        "[i for i in L1 if i not in L2] + [j for j in L2 if j not in L1] #UNIQUE\n"
      ],
      "metadata": {
        "colab": {
          "base_uri": "https://localhost:8080/"
        },
        "id": "5ppzuzKdTidu",
        "outputId": "61f7eb22-0dae-44d7-8d75-868a20f41ebf"
      },
      "execution_count": 409,
      "outputs": [
        {
          "output_type": "execute_result",
          "data": {
            "text/plain": [
              "[13, 19, 18, 14, 19, 24, 24, 27, 18, 17, 25, 25, 29, 15, 12, 11, 12, 20]"
            ]
          },
          "metadata": {},
          "execution_count": 409
        }
      ]
    },
    {
      "cell_type": "code",
      "source": [
        "min(L1+L2)"
      ],
      "metadata": {
        "colab": {
          "base_uri": "https://localhost:8080/"
        },
        "id": "8GrSVsLGUbHU",
        "outputId": "b2241d2c-64ac-4d01-bea9-350c5dcf4bd3"
      },
      "execution_count": 410,
      "outputs": [
        {
          "output_type": "execute_result",
          "data": {
            "text/plain": [
              "11"
            ]
          },
          "metadata": {},
          "execution_count": 410
        }
      ]
    },
    {
      "cell_type": "code",
      "source": [
        "max(L1+L2)"
      ],
      "metadata": {
        "colab": {
          "base_uri": "https://localhost:8080/"
        },
        "id": "VpKRwk_gUfAz",
        "outputId": "f4b6a0c1-32f2-4936-8661-073dedd762b2"
      },
      "execution_count": 411,
      "outputs": [
        {
          "output_type": "execute_result",
          "data": {
            "text/plain": [
              "29"
            ]
          },
          "metadata": {},
          "execution_count": 411
        }
      ]
    },
    {
      "cell_type": "code",
      "source": [
        "list(np.add(L1,L2)) #np.add adds element wise the 2 arrays"
      ],
      "metadata": {
        "colab": {
          "base_uri": "https://localhost:8080/"
        },
        "id": "AEAnE32ZU_3-",
        "outputId": "67f6d29a-000c-4f6c-fcff-bc0c5d05b557"
      },
      "execution_count": 412,
      "outputs": [
        {
          "output_type": "execute_result",
          "data": {
            "text/plain": [
              "[30, 47, 41, 43, 43, 34, 36, 35, 39, 38]"
            ]
          },
          "metadata": {},
          "execution_count": 412
        }
      ]
    },
    {
      "cell_type": "markdown",
      "source": [
        "Q6. WAP to create a list of 100 random numbers between 100 and 900. Count and print the:\n",
        "1. All odd numbers\n",
        "2. All even numbers\n",
        "3. All prime numbers"
      ],
      "metadata": {
        "id": "50GkGz6-VZE6"
      }
    },
    {
      "cell_type": "code",
      "source": [
        "nums = [i for i in range(101,900)]\n",
        "rand = random.choices(population=nums,k=100)\n",
        "print(rand)"
      ],
      "metadata": {
        "colab": {
          "base_uri": "https://localhost:8080/"
        },
        "id": "4YrKGCP5VYtB",
        "outputId": "2b6e32e4-748a-42ea-d522-0f5eb27653f5"
      },
      "execution_count": 413,
      "outputs": [
        {
          "output_type": "stream",
          "name": "stdout",
          "text": [
            "[536, 788, 129, 612, 899, 786, 269, 671, 439, 551, 722, 507, 109, 163, 217, 380, 657, 431, 735, 655, 224, 253, 535, 645, 896, 538, 212, 412, 191, 316, 449, 167, 220, 335, 443, 555, 373, 316, 372, 836, 277, 856, 241, 755, 432, 589, 456, 166, 127, 694, 392, 772, 275, 820, 276, 223, 334, 547, 894, 427, 249, 435, 408, 397, 279, 605, 611, 666, 526, 403, 136, 380, 808, 617, 266, 640, 808, 598, 195, 576, 711, 352, 719, 655, 138, 289, 668, 763, 880, 478, 172, 641, 668, 647, 618, 657, 303, 470, 743, 868]\n"
          ]
        }
      ]
    },
    {
      "cell_type": "code",
      "source": [
        "print([i for i in rand if i%2!=0])"
      ],
      "metadata": {
        "colab": {
          "base_uri": "https://localhost:8080/"
        },
        "id": "20e-A4TNfv2_",
        "outputId": "b6344363-60e9-4b1c-d734-b9d696533ae4"
      },
      "execution_count": 414,
      "outputs": [
        {
          "output_type": "stream",
          "name": "stdout",
          "text": [
            "[129, 899, 269, 671, 439, 551, 507, 109, 163, 217, 657, 431, 735, 655, 253, 535, 645, 191, 449, 167, 335, 443, 555, 373, 277, 241, 755, 589, 127, 275, 223, 547, 427, 249, 435, 397, 279, 605, 611, 403, 617, 195, 711, 719, 655, 289, 763, 641, 647, 657, 303, 743]\n"
          ]
        }
      ]
    },
    {
      "cell_type": "code",
      "source": [
        "print([i for i in rand if i%2==0])"
      ],
      "metadata": {
        "colab": {
          "base_uri": "https://localhost:8080/"
        },
        "id": "Yjp4EpnegVF_",
        "outputId": "0cd67ef9-adb5-47af-8de6-08a1cf62040b"
      },
      "execution_count": 415,
      "outputs": [
        {
          "output_type": "stream",
          "name": "stdout",
          "text": [
            "[536, 788, 612, 786, 722, 380, 224, 896, 538, 212, 412, 316, 220, 316, 372, 836, 856, 432, 456, 166, 694, 392, 772, 820, 276, 334, 894, 408, 666, 526, 136, 380, 808, 266, 640, 808, 598, 576, 352, 138, 668, 880, 478, 172, 668, 618, 470, 868]\n"
          ]
        }
      ]
    },
    {
      "cell_type": "code",
      "source": [
        "print([i for i in rand if sp.isprime(i)==0])"
      ],
      "metadata": {
        "colab": {
          "base_uri": "https://localhost:8080/"
        },
        "id": "viX4zl0Og5Bk",
        "outputId": "f363e643-a199-4c1b-f2e8-209ee2a2e1b1"
      },
      "execution_count": 416,
      "outputs": [
        {
          "output_type": "stream",
          "name": "stdout",
          "text": [
            "[536, 788, 129, 612, 899, 786, 671, 551, 722, 507, 217, 380, 657, 735, 655, 224, 253, 535, 645, 896, 538, 212, 412, 316, 220, 335, 555, 316, 372, 836, 856, 755, 432, 589, 456, 166, 694, 392, 772, 275, 820, 276, 334, 894, 427, 249, 435, 408, 279, 605, 611, 666, 526, 403, 136, 380, 808, 266, 640, 808, 598, 195, 576, 711, 352, 655, 138, 289, 668, 763, 880, 478, 172, 668, 618, 657, 303, 470, 868]\n"
          ]
        }
      ]
    },
    {
      "cell_type": "markdown",
      "source": [
        "Q7. D is a dictionary defined as D={1:\"One\",2:\"Two\",3:\"Three\",4:\"Four\", 5:\"Five\"}.<br>\n",
        "&nbsp;&nbsp;&nbsp;&nbsp;&nbsp;&nbsp;&nbsp;WAP to read all the keys and values from dictionary and write to the file in the given format.<br>\n",
        " - Key1, Value1\n",
        " - Key2, Value2\n",
        " - Key3, Value3"
      ],
      "metadata": {
        "id": "iwgq-Ph3hDNt"
      }
    },
    {
      "cell_type": "code",
      "source": [
        "D = {1:\"One\",2:\"Two\",3:\"Three\",4:\"Four\", 5:\"Five\"}"
      ],
      "metadata": {
        "id": "x--J36W-hDDt"
      },
      "execution_count": 417,
      "outputs": []
    },
    {
      "cell_type": "code",
      "source": [
        "f = open(\"file1.txt\", \"w\")\n",
        "\n",
        "for i in D.keys():\n",
        "  s = \" - \"+str(i)+\", \"+str(D[i])+\"\\n\"\n",
        "  f.write(s)\n",
        "f.close()"
      ],
      "metadata": {
        "id": "8TzZlE-XhAqg"
      },
      "execution_count": 418,
      "outputs": []
    },
    {
      "cell_type": "markdown",
      "source": [
        "Q8. L is a list defined as L=[\"One\",\"Two\",\"Three\",\"Four\",\"Five\"].<br>\n",
        "&nbsp;&nbsp;&nbsp;&nbsp;&nbsp;&nbsp;&nbsp;WAP to count the length of reach element from a list and write to the file in the given below format:\n",
        " - One, 3\n",
        " - Two, 3\n",
        " - Four, 4"
      ],
      "metadata": {
        "id": "r_maeIPpjY1D"
      }
    },
    {
      "cell_type": "code",
      "source": [
        "L=[\"One\",\"Two\",\"Three\",\"Four\",\"Five\"]"
      ],
      "metadata": {
        "id": "_klLj-N_j6Pt"
      },
      "execution_count": 419,
      "outputs": []
    },
    {
      "cell_type": "code",
      "source": [
        "f = open(\"file2.txt\", \"w\")\n",
        "\n",
        "for i in L:\n",
        "  s = \" - \"+str(i)+\", \"+str(len(i))+\"\\n\"\n",
        "  f.write(s)\n",
        "f.close()"
      ],
      "metadata": {
        "id": "eeIt2TiNh__u"
      },
      "execution_count": 420,
      "outputs": []
    },
    {
      "cell_type": "markdown",
      "source": [
        "Q9. Write to the file 100 random strings whose length between 10 and 15."
      ],
      "metadata": {
        "id": "Ph6CTX4Kl9ty"
      }
    },
    {
      "cell_type": "code",
      "source": [
        "f = open(\"file3.txt\", \"w\")\n",
        "\n",
        "for i in range(100):\n",
        "  s = random.choices(population=string.ascii_lowercase,k=random.randint(10,15))\n",
        "  s=\"\".join(s)\n",
        "  f.write(s+\"\\n\")\n",
        "f.close()"
      ],
      "metadata": {
        "id": "KlnX1Ejjl9KO"
      },
      "execution_count": 423,
      "outputs": []
    },
    {
      "cell_type": "markdown",
      "source": [
        "Q10. Write to the file all prime numbers between 600 and 800."
      ],
      "metadata": {
        "id": "L7eC3qrjmhZN"
      }
    },
    {
      "cell_type": "code",
      "source": [
        "f = open(\"file4.txt\", \"w\")\n",
        "\n",
        "for i in range(600,800):\n",
        "  if sp.isprime(i):\n",
        "    f.write(str(i)+\"\\n\")\n",
        "f.close()"
      ],
      "metadata": {
        "id": "78dFzrgVmmS2"
      },
      "execution_count": 424,
      "outputs": []
    },
    {
      "cell_type": "markdown",
      "source": [
        "Q11. WAP to calculate the time taken by a program."
      ],
      "metadata": {
        "id": "PAaxQt24mvxh"
      }
    },
    {
      "cell_type": "markdown",
      "source": [
        "Q12. WAP to sort following number of elements in a list, calculate time taken and plot the graph.<br>\n",
        "Number of elements in list Time Taken\n",
        " - 5k&nbsp;&nbsp; | T1\n",
        " - 10k | T2\n",
        " - 15k | T3\n",
        " - 20k | T4\n",
        " - 25k | T5"
      ],
      "metadata": {
        "id": "G9atKJLgmznc"
      }
    },
    {
      "cell_type": "markdown",
      "source": [
        "Q13. WAP to create a dictionary of student marks in five subjects and you have to find the student having maximum and minimum average marks."
      ],
      "metadata": {
        "id": "QXMTV8KTnqG6"
      }
    },
    {
      "cell_type": "code",
      "source": [],
      "metadata": {
        "id": "_R3-Xwj1mwHy"
      },
      "execution_count": null,
      "outputs": []
    }
  ]
}