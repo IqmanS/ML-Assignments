{
  "nbformat": 4,
  "nbformat_minor": 0,
  "metadata": {
    "colab": {
      "provenance": [],
      "authorship_tag": "ABX9TyP951wrLqxWyPT4QkarfQs0",
      "include_colab_link": true
    },
    "kernelspec": {
      "name": "ir",
      "display_name": "R"
    },
    "language_info": {
      "name": "R"
    }
  },
  "cells": [
    {
      "cell_type": "markdown",
      "metadata": {
        "id": "view-in-github",
        "colab_type": "text"
      },
      "source": [
        "<a href=\"https://colab.research.google.com/github/IqmanS/summer_school_assignments/blob/main/Assignment_3_R_Programming.ipynb\" target=\"_parent\"><img src=\"https://colab.research.google.com/assets/colab-badge.svg\" alt=\"Open In Colab\"/></a>"
      ]
    },
    {
      "cell_type": "markdown",
      "source": [
        "1. Create a file that contains 1000 lines of random strings."
      ],
      "metadata": {
        "id": "Pv2A1Hd8x3QM"
      }
    },
    {
      "cell_type": "code",
      "source": [
        "library(stringi)\n"
      ],
      "metadata": {
        "id": "7LEwiuCxzjKw"
      },
      "execution_count": 2,
      "outputs": []
    },
    {
      "cell_type": "code",
      "source": [
        "# sprintf(\"%s%s%s\", stri_rand_strings(5, 5, '[A-Z]'),\n",
        "stri_rand_strings(5, 5, '[A-Z]')"
      ],
      "metadata": {
        "colab": {
          "base_uri": "https://localhost:8080/",
          "height": 34
        },
        "id": "mHRKRNjvz9X1",
        "outputId": "75d2cfe9-fbc7-49b0-b8b1-0dc5b730ae1c"
      },
      "execution_count": 10,
      "outputs": [
        {
          "output_type": "display_data",
          "data": {
            "text/html": [
              "<style>\n",
              ".list-inline {list-style: none; margin:0; padding: 0}\n",
              ".list-inline>li {display: inline-block}\n",
              ".list-inline>li:not(:last-child)::after {content: \"\\00b7\"; padding: 0 .5ex}\n",
              "</style>\n",
              "<ol class=list-inline><li>'XEZPD'</li><li>'FQCSS'</li><li>'UJKUA'</li><li>'HYTTE'</li><li>'RCWCD'</li></ol>\n"
            ],
            "text/markdown": "1. 'XEZPD'\n2. 'FQCSS'\n3. 'UJKUA'\n4. 'HYTTE'\n5. 'RCWCD'\n\n\n",
            "text/latex": "\\begin{enumerate*}\n\\item 'XEZPD'\n\\item 'FQCSS'\n\\item 'UJKUA'\n\\item 'HYTTE'\n\\item 'RCWCD'\n\\end{enumerate*}\n",
            "text/plain": [
              "[1] \"XEZPD\" \"FQCSS\" \"UJKUA\" \"HYTTE\" \"RCWCD\""
            ]
          },
          "metadata": {}
        }
      ]
    },
    {
      "cell_type": "markdown",
      "source": [
        "2. Create a random dataset of 100 rows and 30 columns. All the values are defined between [1,200]. Perform\n",
        "the following operations:\n",
        " 1. Replace all the values with NA in the dataset defined between [10, 60]. Print the count of number\n",
        "rows having missing values.\n",
        " 2. Replace all the NA values with the average of the column value.\n",
        " 3. Find the Pearson correlation among all the columns and plot heat map. Also select those columns\n",
        "having correlation <=0.7.\n",
        " 4. Normalize all the values in the dataset between 0 and 10.\n",
        " 5. Replace all the values in the dataset with 1 if value <=0.5 else with 0."
      ],
      "metadata": {
        "id": "pgILk6w1yEsu"
      }
    },
    {
      "cell_type": "markdown",
      "source": [
        "3. Create a random dataset of 500 rows and 10 columns.<br>\n",
        "Columns 1 to 4 are defined between [-10, 10];<br>\n",
        "Columns 5 to 8 are defined between [10, 20];<br>\n",
        "Columns 9 to 10 are defined between [-100, 100].<br>\n",
        "Apply following clustering algorithms; determine the optimal number of clusters and plot distance metric<br>\n",
        "graph using each algorithm.<br>\n",
        " 1. K-Mean clustering<br>\n",
        " 2. Hierarchical clustering"
      ],
      "metadata": {
        "id": "WA6kx1tOyOAb"
      }
    },
    {
      "cell_type": "markdown",
      "source": [
        "4. Create a random dataset of 600 rows and 15 columns.<br> All the values are defined between [-100,100].<br>\n",
        "Perform the following operations:<br>\n",
        " 1. Plot scatter graph between Column 5 and Column 6.\n",
        " 2. Plot histogram of each column in single graph.\n",
        " 3. Plot the Box plot of each column in single graph."
      ],
      "metadata": {
        "id": "4eoRhHbOyhf-"
      }
    },
    {
      "cell_type": "markdown",
      "source": [
        "5. Create a random dataset of 500 rows and 5 columns:<br>\n",
        "All the values are defined between [5,10].<br>\n",
        "Perform the following operations:<br> \n",
        " 1. Perform t-Test on each column.\n",
        " 2. Perform Wilcoxon Signed Rank Test on each column.\n",
        " 3. Perform Two Sample t-Test and Wilcoxon Rank Sum Test on Column 3 and Column 4"
      ],
      "metadata": {
        "id": "-fcqLoplys_1"
      }
    },
    {
      "cell_type": "code",
      "execution_count": null,
      "metadata": {
        "id": "pJR63z5UwjXE"
      },
      "outputs": [],
      "source": []
    }
  ]
}